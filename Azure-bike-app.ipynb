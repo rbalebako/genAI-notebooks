{
 "cells": [
  {
   "cell_type": "markdown",
   "id": "6debd14d-2521-4f42-9a4b-306d73158275",
   "metadata": {},
   "source": [
    "TODO\n",
    "X Add a more secure way to handle the API keys - they Azure Keypass manager gave me a permission denied.\n",
    "X Decide how I want to get data? At the moment, none, let's see how Chat-GPTo works\n",
    "- What are the features I want? A chatbot that helps me filter bikes and gives me links to the bike website\n",
    "- Add a user interface : simple webapp with dots when chatting\n",
    "- Share it on Github\n",
    "- Share it on my website\n",
    "- Test it with various testing options\n",
    "  "
   ]
  },
  {
   "cell_type": "code",
   "execution_count": 1,
   "id": "e0f4981b-0845-4fd4-a0fc-005f96522873",
   "metadata": {},
   "outputs": [
    {
     "name": "stdout",
     "output_type": "stream",
     "text": [
      "Requirement already satisfied: langchain_community in ./.env/lib/python3.10/site-packages (0.2.4)\n",
      "Requirement already satisfied: PyYAML>=5.3 in ./.env/lib/python3.10/site-packages (from langchain_community) (6.0.1)\n",
      "Requirement already satisfied: SQLAlchemy<3,>=1.4 in ./.env/lib/python3.10/site-packages (from langchain_community) (2.0.30)\n",
      "Requirement already satisfied: aiohttp<4.0.0,>=3.8.3 in ./.env/lib/python3.10/site-packages (from langchain_community) (3.9.5)\n",
      "Requirement already satisfied: dataclasses-json<0.7,>=0.5.7 in ./.env/lib/python3.10/site-packages (from langchain_community) (0.6.7)\n",
      "Requirement already satisfied: langchain<0.3.0,>=0.2.0 in ./.env/lib/python3.10/site-packages (from langchain_community) (0.2.3)\n",
      "Requirement already satisfied: langchain-core<0.3.0,>=0.2.0 in ./.env/lib/python3.10/site-packages (from langchain_community) (0.2.5)\n",
      "Requirement already satisfied: langsmith<0.2.0,>=0.1.0 in ./.env/lib/python3.10/site-packages (from langchain_community) (0.1.76)\n",
      "Requirement already satisfied: numpy<2,>=1 in ./.env/lib/python3.10/site-packages (from langchain_community) (1.26.4)\n",
      "Requirement already satisfied: requests<3,>=2 in ./.env/lib/python3.10/site-packages (from langchain_community) (2.32.3)\n",
      "Requirement already satisfied: tenacity<9.0.0,>=8.1.0 in ./.env/lib/python3.10/site-packages (from langchain_community) (8.3.0)\n",
      "Requirement already satisfied: aiosignal>=1.1.2 in ./.env/lib/python3.10/site-packages (from aiohttp<4.0.0,>=3.8.3->langchain_community) (1.3.1)\n",
      "Requirement already satisfied: attrs>=17.3.0 in ./.env/lib/python3.10/site-packages (from aiohttp<4.0.0,>=3.8.3->langchain_community) (23.2.0)\n",
      "Requirement already satisfied: frozenlist>=1.1.1 in ./.env/lib/python3.10/site-packages (from aiohttp<4.0.0,>=3.8.3->langchain_community) (1.4.1)\n",
      "Requirement already satisfied: multidict<7.0,>=4.5 in ./.env/lib/python3.10/site-packages (from aiohttp<4.0.0,>=3.8.3->langchain_community) (6.0.5)\n",
      "Requirement already satisfied: yarl<2.0,>=1.0 in ./.env/lib/python3.10/site-packages (from aiohttp<4.0.0,>=3.8.3->langchain_community) (1.9.4)\n",
      "Requirement already satisfied: async-timeout<5.0,>=4.0 in ./.env/lib/python3.10/site-packages (from aiohttp<4.0.0,>=3.8.3->langchain_community) (4.0.3)\n",
      "Requirement already satisfied: marshmallow<4.0.0,>=3.18.0 in ./.env/lib/python3.10/site-packages (from dataclasses-json<0.7,>=0.5.7->langchain_community) (3.21.3)\n",
      "Requirement already satisfied: typing-inspect<1,>=0.4.0 in ./.env/lib/python3.10/site-packages (from dataclasses-json<0.7,>=0.5.7->langchain_community) (0.9.0)\n",
      "Requirement already satisfied: langchain-text-splitters<0.3.0,>=0.2.0 in ./.env/lib/python3.10/site-packages (from langchain<0.3.0,>=0.2.0->langchain_community) (0.2.1)\n",
      "Requirement already satisfied: pydantic<3,>=1 in ./.env/lib/python3.10/site-packages (from langchain<0.3.0,>=0.2.0->langchain_community) (2.7.3)\n",
      "Requirement already satisfied: jsonpatch<2.0,>=1.33 in ./.env/lib/python3.10/site-packages (from langchain-core<0.3.0,>=0.2.0->langchain_community) (1.33)\n",
      "Requirement already satisfied: packaging<24.0,>=23.2 in ./.env/lib/python3.10/site-packages (from langchain-core<0.3.0,>=0.2.0->langchain_community) (23.2)\n",
      "Requirement already satisfied: orjson<4.0.0,>=3.9.14 in ./.env/lib/python3.10/site-packages (from langsmith<0.2.0,>=0.1.0->langchain_community) (3.10.4)\n",
      "Requirement already satisfied: charset-normalizer<4,>=2 in ./.env/lib/python3.10/site-packages (from requests<3,>=2->langchain_community) (3.3.2)\n",
      "Requirement already satisfied: idna<4,>=2.5 in ./.env/lib/python3.10/site-packages (from requests<3,>=2->langchain_community) (3.7)\n",
      "Requirement already satisfied: urllib3<3,>=1.21.1 in ./.env/lib/python3.10/site-packages (from requests<3,>=2->langchain_community) (2.2.1)\n",
      "Requirement already satisfied: certifi>=2017.4.17 in ./.env/lib/python3.10/site-packages (from requests<3,>=2->langchain_community) (2024.6.2)\n",
      "Requirement already satisfied: typing-extensions>=4.6.0 in ./.env/lib/python3.10/site-packages (from SQLAlchemy<3,>=1.4->langchain_community) (4.12.2)\n",
      "Requirement already satisfied: jsonpointer>=1.9 in ./.env/lib/python3.10/site-packages (from jsonpatch<2.0,>=1.33->langchain-core<0.3.0,>=0.2.0->langchain_community) (3.0.0)\n",
      "Requirement already satisfied: annotated-types>=0.4.0 in ./.env/lib/python3.10/site-packages (from pydantic<3,>=1->langchain<0.3.0,>=0.2.0->langchain_community) (0.7.0)\n",
      "Requirement already satisfied: pydantic-core==2.18.4 in ./.env/lib/python3.10/site-packages (from pydantic<3,>=1->langchain<0.3.0,>=0.2.0->langchain_community) (2.18.4)\n",
      "Requirement already satisfied: mypy-extensions>=0.3.0 in ./.env/lib/python3.10/site-packages (from typing-inspect<1,>=0.4.0->dataclasses-json<0.7,>=0.5.7->langchain_community) (1.0.0)\n"
     ]
    }
   ],
   "source": [
    "!pip install langchain_community\n",
    "!pip install -qU langchain-openai"
   ]
  },
  {
   "cell_type": "code",
   "execution_count": 2,
   "id": "5b9d48fa-cbc0-4d63-ae88-f57ece846336",
   "metadata": {},
   "outputs": [],
   "source": [
    "# from langchain_community.llms import HuggingFaceHub deprecated\n",
    "from langchain_community.llms import HuggingFaceEndpoint\n",
    "from langchain.chains import LLMChain  # need to check if this is deprecated\n",
    "from langchain_core.prompts import PromptTemplate\n",
    "\n",
    "# So we can get the API keys we need, but need to figure out a better way\n",
    "#from getpass import getpass\n",
    "\n"
   ]
  },
  {
   "cell_type": "code",
   "execution_count": 3,
   "id": "aaa8206f-7a4c-449e-b55e-5986a3050f7f",
   "metadata": {},
   "outputs": [
    {
     "name": "stdout",
     "output_type": "stream",
     "text": [
      "362c96e85fd544bab449025f9f6a60a0\n"
     ]
    }
   ],
   "source": [
    "# set the environment variables\n",
    "import os\n",
    "\n",
    "print(os.environ[\"AZURE_OPENAI_API_KEY\"])"
   ]
  },
  {
   "cell_type": "code",
   "execution_count": 4,
   "id": "847de3e8-9031-44dc-b57b-002b64c3ab35",
   "metadata": {},
   "outputs": [
    {
     "name": "stderr",
     "output_type": "stream",
     "text": [
      "/Users/rebecca/miniconda3/envs/python3.10/lib/python3.10/site-packages/langchain_core/_api/deprecation.py:119: LangChainDeprecationWarning: The class `AzureChatOpenAI` was deprecated in LangChain 0.0.10 and will be removed in 0.3.0. An updated version of the class exists in the langchain-openai package and should be used instead. To use it run `pip install -U langchain-openai` and import as `from langchain_openai import AzureChatOpenAI`.\n",
      "  warn_deprecated(\n"
     ]
    }
   ],
   "source": [
    "from langchain_core.messages import HumanMessage\n",
    "from langchain.chat_models import AzureChatOpenAI\n",
    "\n",
    "model = AzureChatOpenAI(\n",
    "    # openai_api_type=\"azure\",\n",
    "    deployment_name=\"gpt-4o\", \n",
    "    model_name=\"gpt-4o\") \n",
    "\n"
   ]
  },
  {
   "cell_type": "code",
   "execution_count": 5,
   "id": "837dff06-6c93-4e9a-90f7-2f4747c1e544",
   "metadata": {},
   "outputs": [
    {
     "data": {
      "text/plain": [
       "'\\nsystem_message = \"\"\"\\nRecommend mountain bikes that fit the criteria. In a bulleted list, name the bike brand, model, frame size, and standover height.\\n\"\"\"\\ntemplate = ChatPromptTemplate.from_messages([\\n    (\"system\", \"You are a {product} recommender system. Only answer questions about {product}. Provide the response as a list of {product}, the standover height and a link to the website about that bike.\"),\\n    (\"human\", \"Hello, I\\'m interested in a {product}\"),\\n    (\"ai\", \"Sure, what are your requirements for a {product}!\"),\\n    (\"human\", \"{user_input}\"),\\n])\\n\\nprompt_value = template.invoke(\\n    {\\n        \"product\": \"Mountain Bike\",\\n        \"user_input\": \"I want a fully and I\\'m 157cm tall.\"\\n    }\\n)\\nmodel.invoke(prompt_value)\\n'"
      ]
     },
     "execution_count": 5,
     "metadata": {},
     "output_type": "execute_result"
    }
   ],
   "source": [
    "from langchain_core.output_parsers import StrOutputParser\n",
    "from langchain_core.prompts import ChatPromptTemplate\n",
    "''' \n",
    "Play around with some prompt engineering and look at the different types of responses.\n",
    "'''\n",
    "'''\n",
    "system_message = \"\"\"\n",
    "Recommend mountain bikes that fit the criteria. In a bulleted list, name the bike brand, model, frame size, and standover height.\n",
    "\"\"\"\n",
    "template = ChatPromptTemplate.from_messages([\n",
    "    (\"system\", \"You are a {product} recommender system. Only answer questions about {product}. Provide the response as a list of {product}, the standover height and a link to the website about that bike.\"),\n",
    "    (\"human\", \"Hello, I'm interested in a {product}\"),\n",
    "    (\"ai\", \"Sure, what are your requirements for a {product}!\"),\n",
    "    (\"human\", \"{user_input}\"),\n",
    "])\n",
    "\n",
    "prompt_value = template.invoke(\n",
    "    {\n",
    "        \"product\": \"Mountain Bike\",\n",
    "        \"user_input\": \"I want a fully and I'm 157cm tall.\"\n",
    "    }\n",
    ")\n",
    "model.invoke(prompt_value)\n",
    "'''"
   ]
  },
  {
   "cell_type": "markdown",
   "id": "8cc4bd59-bdee-4755-94d0-96db1e8f7a94",
   "metadata": {},
   "source": [
    "Prompt \"I am short\"\n",
    "So that example is ok, it largely shows women bikes.  It misses, for example, Pivot and Ibis, both which are high-end mountain bikes known for having smaller sizes.\n",
    "I'll feel more confident if it shows my bike and Roxy's bikes in the results\n",
    "https://roxybikemallorca.com/gebraucht-radverkauf-mondraker/\n",
    "\n",
    "Prompt: I want a fully and I'm 157cm tall. \n",
    "\" **Specialized Stumpjumper Comp Alloy 29**\\\""
   ]
  },
  {
   "cell_type": "markdown",
   "id": "cf01b1d0-5a10-4778-8954-9b1d73bfb95f",
   "metadata": {},
   "source": [
    "# this is where I finished on Tuesday\n",
    "# I think the next steps are to build a chatbot\n",
    "# https://python.langchain.com/v0.2/docs/tutorials/chatbot/\n",
    "# https://python.langchain.com/v0.2/docs/tutorials/rag/\n",
    "\n",
    "# I need to improve the API key handling and I need to add this to github https://github.com/rbalebako/genAI-notebooks"
   ]
  },
  {
   "cell_type": "code",
   "execution_count": 6,
   "id": "18a1017f-eb3b-4993-b89b-e7dacbe52a56",
   "metadata": {},
   "outputs": [],
   "source": [
    "'''\n",
    "We are building a chatbot to help narrow down the types of bikes someone might want.\n",
    "We can use a Message History class to wrap our model and make it stateful. \n",
    "This will keep track of inputs and outputs of the model, and store them in some datastore.\n",
    "'''\n",
    "\n",
    "from langchain_community.chat_message_histories import ChatMessageHistory\n",
    "from langchain_core.chat_history import BaseChatMessageHistory\n",
    "from langchain_core.runnables.history import RunnableWithMessageHistory\n",
    "\n",
    "store = {}\n",
    "\n",
    "def get_session_history(session_id: str) -> BaseChatMessageHistory:\n",
    "    if session_id not in store:\n",
    "        store[session_id] = ChatMessageHistory()\n",
    "    return store[session_id]\n",
    "\n",
    "\n",
    "with_message_history = RunnableWithMessageHistory(model, get_session_history)"
   ]
  },
  {
   "cell_type": "code",
   "execution_count": 7,
   "id": "567cab6a-a5a0-4e9e-8a15-5fc7c0917971",
   "metadata": {},
   "outputs": [],
   "source": [
    "# we will want to pass a new session id to the chatbot for every new user or session\n",
    "config = {\"configurable\": {\"session_id\": \"abc2\"}}"
   ]
  },
  {
   "cell_type": "code",
   "execution_count": 10,
   "id": "9ddda4fc-f418-462f-81d4-5335f378cf7a",
   "metadata": {},
   "outputs": [],
   "source": [
    "from langchain_core.prompts import ChatPromptTemplate, MessagesPlaceholder\n",
    "\n",
    "prompt = ChatPromptTemplate.from_messages(\n",
    "    [\n",
    "        (\n",
    "            \"system\",\n",
    "            \"\"\"\n",
    "            You are a mountain bike recommender system. Only answer questions about mountain bikes.\n",
    "            Provide the response as a list with the brand name, the model name, the standover height, and link to the website about that bike.\n",
    "            \"\"\",\n",
    "        ),\n",
    "        MessagesPlaceholder(variable_name=\"messages\"),\n",
    "    ]\n",
    ")\n",
    "\n",
    "chain = prompt | model"
   ]
  },
  {
   "cell_type": "code",
   "execution_count": 12,
   "id": "ef36ece9-d985-4c33-9ac5-af4213bdb707",
   "metadata": {},
   "outputs": [
    {
     "data": {
      "text/plain": [
       "'Sure! Here are some fully mountain bikes you might be interested in:\\n\\n1. **Brand:** Trek\\n   **Model:** Fuel EX 9.8\\n   **Standover Height:** 76.2 cm (30 inches)\\n   **Link:** [Trek Fuel EX 9.8](https://www.trekbikes.com/us/en_US/bikes/mountain-bikes/trail-mountain-bikes/fuel-ex/fuel-ex-9-8/p/33061/)\\n\\n2. **Brand:** Specialized\\n   **Model:** Stumpjumper Expert\\n   **Standover Height:** 78.5 cm (30.9 inches)\\n   **Link:** [Specialized Stumpjumper Expert](https://www.specialized.com/us/en/stumpjumper-expert/p/175269)\\n\\n3. **Brand:** Giant\\n   **Model:** Trance Advanced Pro 29 1\\n   **Standover Height:** 75.6 cm (29.8 inches)\\n   **Link:** [Giant Trance Advanced Pro 29 1](https://www.giant-bicycles.com/us/trance-advanced-pro-29-1)\\n\\n4. **Brand:** Santa Cruz\\n   **Model:** Hightower\\n   **Standover Height:** 74.4 cm (29.3 inches)\\n   **Link:** [Santa Cruz Hightower](https://www.santacruzbicycles.com/en-US/bikes/hightower)\\n\\n5. **Brand:** Canyon\\n   **Model:** Spectral 29 CF 8\\n   **Standover Height:** 79.5 cm (31.3 inches)\\n   **Link:** [Canyon Spectral 29 CF 8](https://www.canyon.com/en-us/mountain-bikes/trail-bikes/spectral/)\\n\\nFeel free to ask if you need more information!'"
      ]
     },
     "execution_count": 12,
     "metadata": {},
     "output_type": "execute_result"
    }
   ],
   "source": [
    "response = chain.invoke({\"messages\": [HumanMessage(content=\"hi! I'm looking for a fully mountain bike.\")]})\n",
    "\n",
    "response.content"
   ]
  },
  {
   "cell_type": "code",
   "execution_count": null,
   "id": "27580512-b027-4315-b960-205458f21a48",
   "metadata": {},
   "outputs": [],
   "source": [
    "# Limit the size of the message to avoid overflow\n",
    "# BEFORE the prompt template but AFTER you load previous messages from Message History.\n",
    "\n",
    "from langchain_core.runnables import RunnablePassthrough\n",
    "\n",
    "\n",
    "def filter_messages(messages, k=10):\n",
    "    return messages[-k:]\n",
    "\n",
    "\n",
    "chain = (\n",
    "    RunnablePassthrough.assign(messages=lambda x: filter_messages(x[\"messages\"]))\n",
    "    | prompt\n",
    "    | model\n",
    ")"
   ]
  },
  {
   "cell_type": "code",
   "execution_count": null,
   "id": "2f0c8072-ba6b-43b4-8bac-1659af797dcc",
   "metadata": {},
   "outputs": [],
   "source": [
    "#Now that we've built an application, we need to serve it. That's where LangServe comes in. LangServe helps developers deploy LangChain chains as a REST API. You do not need to use LangServe to use LangChain, but in this guide we'll show how you can deploy your app with LangServe.\n",
    "#https://python.langchain.com/v0.2/docs/tutorials/llm_chain/"
   ]
  }
 ],
 "metadata": {
  "kernelspec": {
   "display_name": "Python 3 (ipykernel)",
   "language": "python",
   "name": "python3"
  },
  "language_info": {
   "codemirror_mode": {
    "name": "ipython",
    "version": 3
   },
   "file_extension": ".py",
   "mimetype": "text/x-python",
   "name": "python",
   "nbconvert_exporter": "python",
   "pygments_lexer": "ipython3",
   "version": "3.10.13"
  }
 },
 "nbformat": 4,
 "nbformat_minor": 5
}
